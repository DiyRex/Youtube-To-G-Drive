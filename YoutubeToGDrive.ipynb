{
  "nbformat": 4,
  "nbformat_minor": 0,
  "metadata": {
    "colab": {
      "name": "Untitled4.ipynb",
      "provenance": [],
      "collapsed_sections": [],
      "mount_file_id": "1GTyZa45pYQ5btPc3n6y5YRHRkx4mZu1t",
      "authorship_tag": "ABX9TyM45tNrOIBVzQ/4Vo4Rdnmk",
      "include_colab_link": true
    },
    "kernelspec": {
      "name": "python3",
      "display_name": "Python 3"
    },
    "language_info": {
      "name": "python"
    }
  },
  "cells": [
    {
      "cell_type": "markdown",
      "metadata": {
        "id": "view-in-github",
        "colab_type": "text"
      },
      "source": [
        "<a href=\"https://colab.research.google.com/github/DiyRex/Youtube-To-G-Drive/blob/main/YoutubeToGDrive.ipynb\" target=\"_parent\"><img src=\"https://colab.research.google.com/assets/colab-badge.svg\" alt=\"Open In Colab\"/></a>"
      ]
    },
    {
      "cell_type": "markdown",
      "metadata": {
        "id": "Rqb6zO0LmNpD"
      },
      "source": [
        "##<h1>&nbsp;<center><img style=\"display: block; margin-left: auto; margin-right: auto;\" src=\"https://github.com/DiyRex/Youtube-To-G-Drive/blob/main/Images/y2drive.png?raw=true\" alt=\"\" width=\"90\" height=\"125\" /></center>&nbsp; &nbsp; &nbsp; &nbsp; &nbsp; &nbsp; &nbsp; &nbsp; &nbsp; &nbsp; &nbsp; &nbsp; &nbsp; &nbsp; &nbsp; &nbsp; &nbsp; &nbsp; &nbsp; &nbsp; <strong>Youtube To G-Drive Videos Downloader</strong></h1><p><strong>&nbsp; &nbsp; &nbsp; &nbsp; &nbsp; &nbsp; &nbsp; &nbsp; &nbsp; &nbsp; &nbsp; &nbsp; &nbsp; &nbsp; &nbsp; &nbsp; &nbsp; &nbsp; &nbsp; &nbsp; &nbsp; &nbsp; &nbsp; &nbsp; &nbsp; &nbsp; &nbsp; &nbsp; &nbsp; &nbsp; &nbsp; &nbsp; &nbsp; &nbsp; &nbsp; &nbsp; &nbsp; &nbsp; &nbsp; &nbsp; &nbsp; &nbsp; &nbsp; &nbsp; &nbsp; &nbsp; &nbsp; &nbsp; &nbsp; &nbsp; &nbsp; &nbsp; &nbsp; &nbsp; &nbsp; &nbsp; &nbsp; &nbsp; &nbsp; &nbsp; &nbsp; &nbsp; - Script by DiyRex-</strong></p>"
      ]
    },
    {
      "cell_type": "markdown",
      "metadata": {
        "id": "HBbroRMcTt1U"
      },
      "source": [
        "☕️---------------------------------------------------------------------------------------------------------------------------------------------------------------------------------------------------------------------------☕️"
      ]
    },
    {
      "cell_type": "markdown",
      "metadata": {
        "id": "AAO68FrrUhJ0"
      },
      "source": [
        "\n",
        "      ╚━━━━━━━━━━━━━━━━━━━━━━━━━━━━━ ◆ ❃ ◆ ━━━━━━━━━━━━━━━━━━━━━━━━━━━━━━━━━━━━━━━━━━━━━━━━━━━━━━━━━━━━ ◆ ❃ ◆ ━━━━━━━━━━━━━━━━━━━━━━━━━━━━━━╝"
      ]
    },
    {
      "cell_type": "code",
      "metadata": {
        "id": "cvGoE9ESnQ7Y",
        "cellView": "form"
      },
      "source": [
        "#@markdown #☕️ㅤ Mount Your G-Drive\n",
        "#@markdown <br><center><img src='https://github.com/DiyRex/Torrent-to-G-Drive-/blob/main/google_drive_new_logo-512.png?raw=true' height=\"100\" alt=\"Gdrive-logo\"/></center>\n",
        "#@markdown <center><h3>Mount G-Drive to /content/drive</h3></center><br>\n",
        "MODE = \"MOUNT G-Drive\" #@param [\"MOUNT G-Drive\", \"UNMOUNT G-Drive\"]\n",
        "#Mount your G-drive! \n",
        "from google.colab import drive\n",
        "drive.mount._DEBUG = False\n",
        "if MODE == \"MOUNT G-Drive\":\n",
        "  drive.mount('/content/drive', force_remount=True)\n",
        "elif MODE == \"UNMOUNT G-Drive\":\n",
        "  try:\n",
        "    drive.flush_and_unmount()\n",
        "  except ValueError:\n",
        "    pass\n",
        "  get_ipython().system_raw(\"rm -rf /root/.config/Google/DriveFS\")"
      ],
      "execution_count": null,
      "outputs": []
    },
    {
      "cell_type": "markdown",
      "metadata": {
        "id": "FL6ebVszUSd0"
      },
      "source": [
        "\n",
        "      ╚━━━━━━━━━━━━━━━━━━━━━━━━━━━━━ ◆ ❃ ◆ ━━━━━━━━━━━━━━━━━━━━━━━━━━━━━━━━━━━━━━━━━━━━━━━━━━━━━━━━━━━━ ◆ ❃ ◆ ━━━━━━━━━━━━━━━━━━━━━━━━━━━━━━╝"
      ]
    },
    {
      "cell_type": "code",
      "metadata": {
        "id": "_k4nrendmLop",
        "cellView": "form"
      },
      "source": [
        "!pip install pytube\n",
        "#@markdown # ☕️ㅤ  Install Dependencies"
      ],
      "execution_count": null,
      "outputs": []
    },
    {
      "cell_type": "markdown",
      "metadata": {
        "id": "q0M7V6uKTdm7"
      },
      "source": [
        "\n",
        "      ╚━━━━━━━━━━━━━━━━━━━━━━━━━━━━━ ◆ ❃ ◆ ━━━━━━━━━━━━━━━━━━━━━━━━━━━━━━━━━━━━━━━━━━━━━━━━━━━━━━━━━━━━ ◆ ❃ ◆ ━━━━━━━━━━━━━━━━━━━━━━━━━━━━━━╝"
      ]
    },
    {
      "cell_type": "code",
      "metadata": {
        "id": "I6tITMtepsT1",
        "cellView": "form"
      },
      "source": [
        "#@markdown # ☕️ㅤ   Download Youtube Videos\n",
        "#@markdown<br>\n",
        "#@markdown\n",
        "EnterㅤVideoㅤURL = \"\" #@param {type:\"string\"}\n",
        "DownloadㅤPlaylist = False #@param {type:\"boolean\"}\n",
        "DownloadㅤManually = False #@param {type:\"boolean\"} \n",
        "\n",
        "\n",
        "#@markdown<br>\n",
        "#@markdown\n",
        "VideoㅤResolution = 'MEDIUM-720p' #@param [\"LOW-360p\", \"MEDIUM-720p\", \"HIGH-1080p\", \"VERY HIGH-2160p\"] {allow-input: true}\n",
        "#@markdown<br>\n",
        "#@markdown\n",
        "DownloadㅤDirectory = '/content/drive/MyDrive/Youtube_Downloads' #@param {type:\"string\"}\n",
        "\n",
        "import pytube\n",
        "import os\n",
        "\n",
        "def download_video(url, resolution):\n",
        "    itag = choose_resolution(resolution)\n",
        "    video = pytube.YouTube(url)\n",
        "    stream = video.streams.get_by_itag(itag)\n",
        "    stream.download(DownloadㅤDirectory)\n",
        "    return stream.default_filename\n",
        "\n",
        "def download_videos(urls, resolution):\n",
        "    for url in urls:\n",
        "        download_video(url, resolution)\n",
        "\n",
        "def download_playlist(url, resolution):\n",
        "    playlist = pytube.Playlist(url)\n",
        "    download_videos(playlist.video_urls, resolution)\n",
        "\n",
        "def choose_resolution(resolution):\n",
        "    if (resolution == \"LOW-360p\"):\n",
        "        itag = 18\n",
        "    elif (resolution == \"MEDIUM-720p\"):\n",
        "        itag = 22\n",
        "    elif (resolution == \"HIGH-1080p\"):\n",
        "        itag = 137\n",
        "    elif (resolution == \"VERY HIGH-2160p\"):\n",
        "        itag = 313\n",
        "    else:\n",
        "        itag = 18\n",
        "    return itag\n",
        "\n",
        "if (DownloadㅤManually == True) or (DownloadㅤPlaylist == True):\n",
        "    quality = VideoㅤResolution\n",
        "    if DownloadㅤPlaylist == True:\n",
        "        link = EnterㅤVideoㅤURL\n",
        "        print(\"Downloading playlist...\")\n",
        "        download_playlist(link, quality)\n",
        "        print(\"Playlist Download finished !!!\")\n",
        "    if DownloadㅤManually == True:\n",
        "        link = EnterㅤVideoㅤURL\n",
        "        download_video(link, quality)\n",
        "        print(\"Manuall Download finished !!!\")\n",
        "\n"
      ],
      "execution_count": null,
      "outputs": []
    },
    {
      "cell_type": "markdown",
      "metadata": {
        "id": "WECWzGDHTN60"
      },
      "source": [
        "---\n",
        "      ╚━━━━━━━━━━━━━━━━━━━━━━━━━━━━━ ◆ ❃ ◆ ━━━━━━━━━━━━━━━━━━━━━━━━━━━━━━━━━━━━━━━━━━━━━━━━━━━━━━━━━━━━ ◆ ❃ ◆ ━━━━━━━━━━━━━━━━━━━━━━━━━━━━━━╝"
      ]
    }
  ]
}